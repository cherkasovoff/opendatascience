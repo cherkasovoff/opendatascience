{
 "cells": [
  {
   "cell_type": "code",
   "execution_count": 1,
   "metadata": {},
   "outputs": [],
   "source": [
    "import warnings\n",
    "warnings.filterwarnings('ignore')\n",
    "%matplotlib inline\n",
    "from matplotlib import pyplot as plt\n",
    "import seaborn as sns\n",
    "import os\n",
    "import numpy as np\n",
    "import pandas as pd\n",
    "import pickle\n",
    "from scipy.sparse import csr_matrix, hstack, vstack\n",
    "from sklearn.preprocessing import StandardScaler, OneHotEncoder\n",
    "from sklearn.model_selection import StratifiedKFold, TimeSeriesSplit, cross_val_score, GridSearchCV\n",
    "from sklearn.metrics import roc_auc_score\n",
    "from sklearn.linear_model import LogisticRegression, LogisticRegressionCV\n",
    "from sklearn.feature_extraction.text import TfidfVectorizer"
   ]
  },
  {
   "cell_type": "code",
   "execution_count": 2,
   "metadata": {},
   "outputs": [],
   "source": [
    "train_df = pd.read_csv('../../data/train_sessions.csv', index_col='session_id')\n",
    "test_df = pd.read_csv('../../data/test_sessions.csv', index_col='session_id')"
   ]
  },
  {
   "cell_type": "code",
   "execution_count": 3,
   "metadata": {},
   "outputs": [],
   "source": [
    "sites = ['site%s' % i for i in range(1, 11)]\n",
    "times = ['time%s' % i for i in range(1, 11)]\n",
    "\n",
    "train_df[times] = train_df[times].apply(pd.to_datetime)\n",
    "test_df[times] = test_df[times].apply(pd.to_datetime)\n",
    "\n",
    "train_df = train_df.sort_values(by='time1')\n",
    "\n",
    "with open(r\"../../data/site_dic.pkl\", \"rb\") as input_file:\n",
    "    site_dict = pickle.load(input_file)"
   ]
  },
  {
   "cell_type": "code",
   "execution_count": 4,
   "metadata": {},
   "outputs": [],
   "source": [
    "graph_train = train_df.copy()\n",
    "graph_train['start_time'] = [d.hour for d in graph_train['time1']]"
   ]
  },
  {
   "cell_type": "code",
   "execution_count": 5,
   "metadata": {},
   "outputs": [],
   "source": [
    "graph_train['weekday'] = [d.weekday() for d in graph_train['time1']]"
   ]
  },
  {
   "cell_type": "code",
   "execution_count": 6,
   "metadata": {},
   "outputs": [],
   "source": [
    "graph_train['year_month'] = [str(d.year) +str(d.month) if d.month >= 10 \n",
    "                             else str(d.year) + '0' + str(d.month) for d in graph_train['time1']]"
   ]
  },
  {
   "cell_type": "code",
   "execution_count": 8,
   "metadata": {},
   "outputs": [
    {
     "data": {
      "text/html": [
       "<div>\n",
       "<style scoped>\n",
       "    .dataframe tbody tr th:only-of-type {\n",
       "        vertical-align: middle;\n",
       "    }\n",
       "\n",
       "    .dataframe tbody tr th {\n",
       "        vertical-align: top;\n",
       "    }\n",
       "\n",
       "    .dataframe thead th {\n",
       "        text-align: right;\n",
       "    }\n",
       "</style>\n",
       "<table border=\"1\" class=\"dataframe\">\n",
       "  <thead>\n",
       "    <tr style=\"text-align: right;\">\n",
       "      <th></th>\n",
       "      <th>site1</th>\n",
       "      <th>time1</th>\n",
       "      <th>site2</th>\n",
       "      <th>time2</th>\n",
       "      <th>site3</th>\n",
       "      <th>time3</th>\n",
       "      <th>site4</th>\n",
       "      <th>time4</th>\n",
       "      <th>site5</th>\n",
       "      <th>time5</th>\n",
       "      <th>...</th>\n",
       "      <th>site8</th>\n",
       "      <th>time8</th>\n",
       "      <th>site9</th>\n",
       "      <th>time9</th>\n",
       "      <th>site10</th>\n",
       "      <th>time10</th>\n",
       "      <th>target</th>\n",
       "      <th>start_time</th>\n",
       "      <th>weekday</th>\n",
       "      <th>year_month</th>\n",
       "    </tr>\n",
       "    <tr>\n",
       "      <th>session_id</th>\n",
       "      <th></th>\n",
       "      <th></th>\n",
       "      <th></th>\n",
       "      <th></th>\n",
       "      <th></th>\n",
       "      <th></th>\n",
       "      <th></th>\n",
       "      <th></th>\n",
       "      <th></th>\n",
       "      <th></th>\n",
       "      <th></th>\n",
       "      <th></th>\n",
       "      <th></th>\n",
       "      <th></th>\n",
       "      <th></th>\n",
       "      <th></th>\n",
       "      <th></th>\n",
       "      <th></th>\n",
       "      <th></th>\n",
       "      <th></th>\n",
       "      <th></th>\n",
       "    </tr>\n",
       "  </thead>\n",
       "  <tbody>\n",
       "    <tr>\n",
       "      <th>21669</th>\n",
       "      <td>56</td>\n",
       "      <td>2013-01-12 08:05:57</td>\n",
       "      <td>55.0</td>\n",
       "      <td>2013-01-12 08:05:57</td>\n",
       "      <td>NaN</td>\n",
       "      <td>NaT</td>\n",
       "      <td>NaN</td>\n",
       "      <td>NaT</td>\n",
       "      <td>NaN</td>\n",
       "      <td>NaT</td>\n",
       "      <td>...</td>\n",
       "      <td>NaN</td>\n",
       "      <td>NaT</td>\n",
       "      <td>NaN</td>\n",
       "      <td>NaT</td>\n",
       "      <td>NaN</td>\n",
       "      <td>NaT</td>\n",
       "      <td>0</td>\n",
       "      <td>8</td>\n",
       "      <td>5</td>\n",
       "      <td>201301</td>\n",
       "    </tr>\n",
       "    <tr>\n",
       "      <th>54843</th>\n",
       "      <td>56</td>\n",
       "      <td>2013-01-12 08:37:23</td>\n",
       "      <td>55.0</td>\n",
       "      <td>2013-01-12 08:37:23</td>\n",
       "      <td>56.0</td>\n",
       "      <td>2013-01-12 09:07:07</td>\n",
       "      <td>55.0</td>\n",
       "      <td>2013-01-12 09:07:09</td>\n",
       "      <td>NaN</td>\n",
       "      <td>NaT</td>\n",
       "      <td>...</td>\n",
       "      <td>NaN</td>\n",
       "      <td>NaT</td>\n",
       "      <td>NaN</td>\n",
       "      <td>NaT</td>\n",
       "      <td>NaN</td>\n",
       "      <td>NaT</td>\n",
       "      <td>0</td>\n",
       "      <td>8</td>\n",
       "      <td>5</td>\n",
       "      <td>201301</td>\n",
       "    </tr>\n",
       "    <tr>\n",
       "      <th>77292</th>\n",
       "      <td>946</td>\n",
       "      <td>2013-01-12 08:50:13</td>\n",
       "      <td>946.0</td>\n",
       "      <td>2013-01-12 08:50:14</td>\n",
       "      <td>951.0</td>\n",
       "      <td>2013-01-12 08:50:15</td>\n",
       "      <td>946.0</td>\n",
       "      <td>2013-01-12 08:50:15</td>\n",
       "      <td>946.0</td>\n",
       "      <td>2013-01-12 08:50:16</td>\n",
       "      <td>...</td>\n",
       "      <td>784.0</td>\n",
       "      <td>2013-01-12 08:50:16</td>\n",
       "      <td>949.0</td>\n",
       "      <td>2013-01-12 08:50:17</td>\n",
       "      <td>946.0</td>\n",
       "      <td>2013-01-12 08:50:17</td>\n",
       "      <td>0</td>\n",
       "      <td>8</td>\n",
       "      <td>5</td>\n",
       "      <td>201301</td>\n",
       "    </tr>\n",
       "    <tr>\n",
       "      <th>114021</th>\n",
       "      <td>945</td>\n",
       "      <td>2013-01-12 08:50:17</td>\n",
       "      <td>948.0</td>\n",
       "      <td>2013-01-12 08:50:17</td>\n",
       "      <td>949.0</td>\n",
       "      <td>2013-01-12 08:50:18</td>\n",
       "      <td>948.0</td>\n",
       "      <td>2013-01-12 08:50:18</td>\n",
       "      <td>945.0</td>\n",
       "      <td>2013-01-12 08:50:18</td>\n",
       "      <td>...</td>\n",
       "      <td>945.0</td>\n",
       "      <td>2013-01-12 08:50:19</td>\n",
       "      <td>946.0</td>\n",
       "      <td>2013-01-12 08:50:19</td>\n",
       "      <td>946.0</td>\n",
       "      <td>2013-01-12 08:50:20</td>\n",
       "      <td>0</td>\n",
       "      <td>8</td>\n",
       "      <td>5</td>\n",
       "      <td>201301</td>\n",
       "    </tr>\n",
       "    <tr>\n",
       "      <th>146670</th>\n",
       "      <td>947</td>\n",
       "      <td>2013-01-12 08:50:20</td>\n",
       "      <td>950.0</td>\n",
       "      <td>2013-01-12 08:50:20</td>\n",
       "      <td>948.0</td>\n",
       "      <td>2013-01-12 08:50:20</td>\n",
       "      <td>947.0</td>\n",
       "      <td>2013-01-12 08:50:21</td>\n",
       "      <td>950.0</td>\n",
       "      <td>2013-01-12 08:50:21</td>\n",
       "      <td>...</td>\n",
       "      <td>951.0</td>\n",
       "      <td>2013-01-12 08:50:22</td>\n",
       "      <td>946.0</td>\n",
       "      <td>2013-01-12 08:50:22</td>\n",
       "      <td>947.0</td>\n",
       "      <td>2013-01-12 08:50:22</td>\n",
       "      <td>0</td>\n",
       "      <td>8</td>\n",
       "      <td>5</td>\n",
       "      <td>201301</td>\n",
       "    </tr>\n",
       "  </tbody>\n",
       "</table>\n",
       "<p>5 rows × 24 columns</p>\n",
       "</div>"
      ],
      "text/plain": [
       "            site1               time1  site2               time2  site3  \\\n",
       "session_id                                                                \n",
       "21669          56 2013-01-12 08:05:57   55.0 2013-01-12 08:05:57    NaN   \n",
       "54843          56 2013-01-12 08:37:23   55.0 2013-01-12 08:37:23   56.0   \n",
       "77292         946 2013-01-12 08:50:13  946.0 2013-01-12 08:50:14  951.0   \n",
       "114021        945 2013-01-12 08:50:17  948.0 2013-01-12 08:50:17  949.0   \n",
       "146670        947 2013-01-12 08:50:20  950.0 2013-01-12 08:50:20  948.0   \n",
       "\n",
       "                         time3  site4               time4  site5  \\\n",
       "session_id                                                         \n",
       "21669                      NaT    NaN                 NaT    NaN   \n",
       "54843      2013-01-12 09:07:07   55.0 2013-01-12 09:07:09    NaN   \n",
       "77292      2013-01-12 08:50:15  946.0 2013-01-12 08:50:15  946.0   \n",
       "114021     2013-01-12 08:50:18  948.0 2013-01-12 08:50:18  945.0   \n",
       "146670     2013-01-12 08:50:20  947.0 2013-01-12 08:50:21  950.0   \n",
       "\n",
       "                         time5    ...      site8               time8  site9  \\\n",
       "session_id                        ...                                         \n",
       "21669                      NaT    ...        NaN                 NaT    NaN   \n",
       "54843                      NaT    ...        NaN                 NaT    NaN   \n",
       "77292      2013-01-12 08:50:16    ...      784.0 2013-01-12 08:50:16  949.0   \n",
       "114021     2013-01-12 08:50:18    ...      945.0 2013-01-12 08:50:19  946.0   \n",
       "146670     2013-01-12 08:50:21    ...      951.0 2013-01-12 08:50:22  946.0   \n",
       "\n",
       "                         time9  site10              time10  target start_time  \\\n",
       "session_id                                                                      \n",
       "21669                      NaT     NaN                 NaT       0          8   \n",
       "54843                      NaT     NaN                 NaT       0          8   \n",
       "77292      2013-01-12 08:50:17   946.0 2013-01-12 08:50:17       0          8   \n",
       "114021     2013-01-12 08:50:19   946.0 2013-01-12 08:50:20       0          8   \n",
       "146670     2013-01-12 08:50:22   947.0 2013-01-12 08:50:22       0          8   \n",
       "\n",
       "            weekday year_month  \n",
       "session_id                      \n",
       "21669             5     201301  \n",
       "54843             5     201301  \n",
       "77292             5     201301  \n",
       "114021            5     201301  \n",
       "146670            5     201301  \n",
       "\n",
       "[5 rows x 24 columns]"
      ]
     },
     "execution_count": 8,
     "metadata": {},
     "output_type": "execute_result"
    }
   ],
   "source": [
    "graph_train.head()"
   ]
  },
  {
   "cell_type": "code",
   "execution_count": 39,
   "metadata": {},
   "outputs": [
    {
     "data": {
      "image/png": "[encoded data removed]",
      "text/plain": [
       "<matplotlib.figure.Figure at 0xfb4dc88>"
      ]
     },
     "metadata": {},
     "output_type": "display_data"
    }
   ],
   "source": [
    "data = graph_train[(graph_train['year_month'] == '201310') & (graph_train['target'] == 0)]\n",
    "plt.figure(figsize=(15,10))\n",
    "sns.countplot(x='weekday', data=data);"
   ]
  },
  {
   "cell_type": "code",
   "execution_count": 34,
   "metadata": {},
   "outputs": [
    {
     "data": {
      "image/png": "[encoded data removed]",
      "text/plain": [
       "<matplotlib.figure.Figure at 0xb022400>"
      ]
     },
     "metadata": {},
     "output_type": "display_data"
    }
   ],
   "source": [
    "data = graph_train[(graph_train['year_month'] == '201311') & (graph_train['target'] == 0)]\n",
    "plt.figure(figsize=(15,10))\n",
    "sns.countplot(x='weekday', data=data);"
   ]
  },
  {
   "cell_type": "code",
   "execution_count": 41,
   "metadata": {},
   "outputs": [],
   "source": [
    "graph_train = graph_train[graph_train['time1'].apply(lambda date: \n",
    "                                                          date >= pd.to_datetime('20131101', format='%Y%m%d', errors='ignore'))]"
   ]
  },
  {
   "cell_type": "code",
   "execution_count": 42,
   "metadata": {},
   "outputs": [
    {
     "data": {
      "text/plain": [
       "201403    56250\n",
       "201402    55563\n",
       "201401    35869\n",
       "201311    34493\n",
       "201404    31204\n",
       "201312    16552\n",
       "Name: year_month, dtype: int64"
      ]
     },
     "execution_count": 42,
     "metadata": {},
     "output_type": "execute_result"
    }
   ],
   "source": [
    "graph_train['year_month'].value_counts()"
   ]
  },
  {
   "cell_type": "code",
   "execution_count": 43,
   "metadata": {},
   "outputs": [
    {
     "data": {
      "image/png": "[encoded data removed]",
      "text/plain": [
       "<matplotlib.figure.Figure at 0xebbf128>"
      ]
     },
     "metadata": {},
     "output_type": "display_data"
    }
   ],
   "source": [
    "plt.figure(figsize=(15,10))\n",
    "sns.countplot(x='start_time', hue='target', data=graph_train);"
   ]
  },
  {
   "cell_type": "code",
   "execution_count": 44,
   "metadata": {},
   "outputs": [
    {
     "data": {
      "image/png": "[encoded data removed]",
      "text/plain": [
       "<matplotlib.figure.Figure at 0xebbf668>"
      ]
     },
     "metadata": {},
     "output_type": "display_data"
    }
   ],
   "source": [
    "plt.figure(figsize=(15,10))\n",
    "sns.countplot(x='start_time', data=graph_train[graph_train['target'] == 1]);"
   ]
  },
  {
   "cell_type": "code",
   "execution_count": 45,
   "metadata": {},
   "outputs": [
    {
     "data": {
      "image/png": "[encoded data removed]",
      "text/plain": [
       "<matplotlib.figure.Figure at 0xb0dc588>"
      ]
     },
     "metadata": {},
     "output_type": "display_data"
    }
   ],
   "source": [
    "plt.figure(figsize=(15,10))\n",
    "sns.countplot(x='weekday', hue='target', data=graph_train);"
   ]
  },
  {
   "cell_type": "code",
   "execution_count": 7,
   "metadata": {},
   "outputs": [],
   "source": [
    "graph_train['year_month'] = [str(d.year) +str(d.month) if d.month >= 10 \n",
    "                             else str(d.year) + '0' + str(d.month) for d in graph_train['time1']]"
   ]
  },
  {
   "cell_type": "code",
   "execution_count": 46,
   "metadata": {},
   "outputs": [
    {
     "data": {
      "image/png": "[encoded data removed]",
      "text/plain": [
       "<matplotlib.figure.Figure at 0xfb4d3c8>"
      ]
     },
     "metadata": {},
     "output_type": "display_data"
    }
   ],
   "source": [
    "graph_train.pivot_table(index='year_month', values='site1', \n",
    "                     aggfunc='count', columns='target').plot();"
   ]
  },
  {
   "cell_type": "code",
   "execution_count": 47,
   "metadata": {},
   "outputs": [
    {
     "data": {
      "image/png": "[encoded data removed]",
      "text/plain": [
       "<matplotlib.figure.Figure at 0xb0be390>"
      ]
     },
     "metadata": {},
     "output_type": "display_data"
    }
   ],
   "source": [
    "plt.figure(figsize=(15,10))\n",
    "sns.countplot(x='year_month', hue='target', data=graph_train);"
   ]
  },
  {
   "cell_type": "code",
   "execution_count": 48,
   "metadata": {},
   "outputs": [
    {
     "data": {
      "text/plain": [
       "201311    446\n",
       "201402    410\n",
       "201403    400\n",
       "201404    302\n",
       "201312    134\n",
       "201401    129\n",
       "Name: year_month, dtype: int64"
      ]
     },
     "execution_count": 48,
     "metadata": {},
     "output_type": "execute_result"
    }
   ],
   "source": [
    "graph_train[graph_train['target'] == 1]['year_month'].value_counts()"
   ]
  },
  {
   "cell_type": "code",
   "execution_count": 23,
   "metadata": {},
   "outputs": [],
   "source": [
    "graph_test = X_test.copy()\n",
    "graph_test['start_time'] = [d.hour for d in graph_test['time1']]\n",
    "graph_test['year_month'] = [str(d.year) +str(d.month) if d.month >= 10 \n",
    "                        else str(d.year) + '0' + str(d.month) for d in graph_test['time1']]"
   ]
  },
  {
   "cell_type": "code",
   "execution_count": 11,
   "metadata": {},
   "outputs": [
    {
     "data": {
      "image/png": "[encoded data removed]",
      "text/plain": [
       "<matplotlib.figure.Figure at 0xb89da58>"
      ]
     },
     "metadata": {},
     "output_type": "display_data"
    }
   ],
   "source": [
    "plt.figure(figsize=(15,10))\n",
    "sns.countplot(x='start_time', data=graph_test);"
   ]
  },
  {
   "cell_type": "code",
   "execution_count": 12,
   "metadata": {},
   "outputs": [
    {
     "data": {
      "image/png": "[encoded data removed]",
      "text/plain": [
       "<matplotlib.figure.Figure at 0x121c4c18>"
      ]
     },
     "metadata": {},
     "output_type": "display_data"
    }
   ],
   "source": [
    "plt.figure(figsize=(15,10))\n",
    "sns.countplot(x='year_month', data=graph_test);"
   ]
  },
  {
   "cell_type": "code",
   "execution_count": null,
   "metadata": {},
   "outputs": [],
   "source": []
  },
  {
   "cell_type": "code",
   "execution_count": 49,
   "metadata": {},
   "outputs": [],
   "source": [
    "site_dict = dict([(v, k) for (k, v) in site_dict.items()])\n",
    "X_train, y_train = graph_train.drop('target', axis=1), graph_train['target']\n",
    "X_test = test_df.copy()\n",
    "\n",
    "for i in sites:\n",
    "    X_train[i] = X_train[i].map(site_dict)\n",
    "    X_test[i] = X_test[i].map(site_dict)"
   ]
  },
  {
   "cell_type": "code",
   "execution_count": 50,
   "metadata": {},
   "outputs": [
    {
     "data": {
      "text/html": [
       "<div>\n",
       "<style scoped>\n",
       "    .dataframe tbody tr th:only-of-type {\n",
       "        vertical-align: middle;\n",
       "    }\n",
       "\n",
       "    .dataframe tbody tr th {\n",
       "        vertical-align: top;\n",
       "    }\n",
       "\n",
       "    .dataframe thead th {\n",
       "        text-align: right;\n",
       "    }\n",
       "</style>\n",
       "<table border=\"1\" class=\"dataframe\">\n",
       "  <thead>\n",
       "    <tr style=\"text-align: right;\">\n",
       "      <th></th>\n",
       "      <th>site1</th>\n",
       "      <th>time1</th>\n",
       "      <th>site2</th>\n",
       "      <th>time2</th>\n",
       "      <th>site3</th>\n",
       "      <th>time3</th>\n",
       "      <th>site4</th>\n",
       "      <th>time4</th>\n",
       "      <th>site5</th>\n",
       "      <th>time5</th>\n",
       "      <th>...</th>\n",
       "      <th>time7</th>\n",
       "      <th>site8</th>\n",
       "      <th>time8</th>\n",
       "      <th>site9</th>\n",
       "      <th>time9</th>\n",
       "      <th>site10</th>\n",
       "      <th>time10</th>\n",
       "      <th>start_time</th>\n",
       "      <th>weekday</th>\n",
       "      <th>year_month</th>\n",
       "    </tr>\n",
       "    <tr>\n",
       "      <th>session_id</th>\n",
       "      <th></th>\n",
       "      <th></th>\n",
       "      <th></th>\n",
       "      <th></th>\n",
       "      <th></th>\n",
       "      <th></th>\n",
       "      <th></th>\n",
       "      <th></th>\n",
       "      <th></th>\n",
       "      <th></th>\n",
       "      <th></th>\n",
       "      <th></th>\n",
       "      <th></th>\n",
       "      <th></th>\n",
       "      <th></th>\n",
       "      <th></th>\n",
       "      <th></th>\n",
       "      <th></th>\n",
       "      <th></th>\n",
       "      <th></th>\n",
       "      <th></th>\n",
       "    </tr>\n",
       "  </thead>\n",
       "  <tbody>\n",
       "    <tr>\n",
       "      <th>168447</th>\n",
       "      <td>www-fourier.ujf-grenoble.fr</td>\n",
       "      <td>2013-11-12 08:04:19</td>\n",
       "      <td>security.debian.org</td>\n",
       "      <td>2013-11-12 08:04:19</td>\n",
       "      <td>backports.debian.org</td>\n",
       "      <td>2013-11-12 08:04:19</td>\n",
       "      <td>security.debian.org</td>\n",
       "      <td>2013-11-12 08:04:20</td>\n",
       "      <td>security.debian.org</td>\n",
       "      <td>2013-11-12 08:06:16</td>\n",
       "      <td>...</td>\n",
       "      <td>2013-11-12 08:06:17</td>\n",
       "      <td>backports.debian.org</td>\n",
       "      <td>2013-11-12 08:06:17</td>\n",
       "      <td>backports.debian.org</td>\n",
       "      <td>2013-11-12 08:06:18</td>\n",
       "      <td>www-fourier.ujf-grenoble.fr</td>\n",
       "      <td>2013-11-12 08:15:30</td>\n",
       "      <td>8</td>\n",
       "      <td>1</td>\n",
       "      <td>201311</td>\n",
       "    </tr>\n",
       "    <tr>\n",
       "      <th>141689</th>\n",
       "      <td>apis.google.com</td>\n",
       "      <td>2013-11-12 08:04:30</td>\n",
       "      <td>id.google.fr</td>\n",
       "      <td>2013-11-12 08:04:31</td>\n",
       "      <td>safebrowsing.clients.google.com</td>\n",
       "      <td>2013-11-12 08:05:23</td>\n",
       "      <td>safebrowsing-cache.google.com</td>\n",
       "      <td>2013-11-12 08:05:23</td>\n",
       "      <td>safebrowsing-cache.google.com</td>\n",
       "      <td>2013-11-12 08:05:24</td>\n",
       "      <td>...</td>\n",
       "      <td>2013-11-12 08:05:42</td>\n",
       "      <td>ocsp.thawte.com</td>\n",
       "      <td>2013-11-12 08:06:53</td>\n",
       "      <td>sb-ssl.google.com</td>\n",
       "      <td>2013-11-12 08:08:17</td>\n",
       "      <td>www.google.fr</td>\n",
       "      <td>2013-11-12 08:26:46</td>\n",
       "      <td>8</td>\n",
       "      <td>1</td>\n",
       "      <td>201311</td>\n",
       "    </tr>\n",
       "    <tr>\n",
       "      <th>6214</th>\n",
       "      <td>javadl-esd-secure.oracle.com</td>\n",
       "      <td>2013-11-12 08:05:56</td>\n",
       "      <td>ad.foxitsoftware.com</td>\n",
       "      <td>2013-11-12 08:35:43</td>\n",
       "      <td>NaN</td>\n",
       "      <td>NaT</td>\n",
       "      <td>NaN</td>\n",
       "      <td>NaT</td>\n",
       "      <td>NaN</td>\n",
       "      <td>NaT</td>\n",
       "      <td>...</td>\n",
       "      <td>NaT</td>\n",
       "      <td>NaN</td>\n",
       "      <td>NaT</td>\n",
       "      <td>NaN</td>\n",
       "      <td>NaT</td>\n",
       "      <td>NaN</td>\n",
       "      <td>NaT</td>\n",
       "      <td>8</td>\n",
       "      <td>1</td>\n",
       "      <td>201311</td>\n",
       "    </tr>\n",
       "    <tr>\n",
       "      <th>35728</th>\n",
       "      <td>armmf.adobe.com</td>\n",
       "      <td>2013-11-12 08:06:39</td>\n",
       "      <td>armmf.adobe.com</td>\n",
       "      <td>2013-11-12 08:06:41</td>\n",
       "      <td>www.bing.com</td>\n",
       "      <td>2013-11-12 08:17:08</td>\n",
       "      <td>www.bing.com</td>\n",
       "      <td>2013-11-12 08:17:09</td>\n",
       "      <td>cms.abmr.net</td>\n",
       "      <td>2013-11-12 08:17:10</td>\n",
       "      <td>...</td>\n",
       "      <td>2013-11-12 08:17:11</td>\n",
       "      <td>login.live.com</td>\n",
       "      <td>2013-11-12 08:17:11</td>\n",
       "      <td>www.bing.com</td>\n",
       "      <td>2013-11-12 08:17:12</td>\n",
       "      <td>ssl.bing.com</td>\n",
       "      <td>2013-11-12 08:17:12</td>\n",
       "      <td>8</td>\n",
       "      <td>1</td>\n",
       "      <td>201311</td>\n",
       "    </tr>\n",
       "    <tr>\n",
       "      <th>243069</th>\n",
       "      <td>ocsp.digicert.com</td>\n",
       "      <td>2013-11-12 08:06:45</td>\n",
       "      <td>www.squid-cache.org</td>\n",
       "      <td>2013-11-12 08:16:18</td>\n",
       "      <td>www.google.com</td>\n",
       "      <td>2013-11-12 08:16:26</td>\n",
       "      <td>clients1.google.com</td>\n",
       "      <td>2013-11-12 08:16:27</td>\n",
       "      <td>www.google.com</td>\n",
       "      <td>2013-11-12 08:16:30</td>\n",
       "      <td>...</td>\n",
       "      <td>2013-11-12 08:16:32</td>\n",
       "      <td>bits.wikimedia.org</td>\n",
       "      <td>2013-11-12 08:16:32</td>\n",
       "      <td>www.google.com</td>\n",
       "      <td>2013-11-12 08:16:32</td>\n",
       "      <td>meta.wikimedia.org</td>\n",
       "      <td>2013-11-12 08:16:33</td>\n",
       "      <td>8</td>\n",
       "      <td>1</td>\n",
       "      <td>201311</td>\n",
       "    </tr>\n",
       "  </tbody>\n",
       "</table>\n",
       "<p>5 rows × 23 columns</p>\n",
       "</div>"
      ],
      "text/plain": [
       "                                   site1               time1  \\\n",
       "session_id                                                     \n",
       "168447       www-fourier.ujf-grenoble.fr 2013-11-12 08:04:19   \n",
       "141689                   apis.google.com 2013-11-12 08:04:30   \n",
       "6214        javadl-esd-secure.oracle.com 2013-11-12 08:05:56   \n",
       "35728                    armmf.adobe.com 2013-11-12 08:06:39   \n",
       "243069                 ocsp.digicert.com 2013-11-12 08:06:45   \n",
       "\n",
       "                           site2               time2  \\\n",
       "session_id                                             \n",
       "168447       security.debian.org 2013-11-12 08:04:19   \n",
       "141689              id.google.fr 2013-11-12 08:04:31   \n",
       "6214        ad.foxitsoftware.com 2013-11-12 08:35:43   \n",
       "35728            armmf.adobe.com 2013-11-12 08:06:41   \n",
       "243069       www.squid-cache.org 2013-11-12 08:16:18   \n",
       "\n",
       "                                      site3               time3  \\\n",
       "session_id                                                        \n",
       "168447                 backports.debian.org 2013-11-12 08:04:19   \n",
       "141689      safebrowsing.clients.google.com 2013-11-12 08:05:23   \n",
       "6214                                    NaN                 NaT   \n",
       "35728                          www.bing.com 2013-11-12 08:17:08   \n",
       "243069                       www.google.com 2013-11-12 08:16:26   \n",
       "\n",
       "                                    site4               time4  \\\n",
       "session_id                                                      \n",
       "168447                security.debian.org 2013-11-12 08:04:20   \n",
       "141689      safebrowsing-cache.google.com 2013-11-12 08:05:23   \n",
       "6214                                  NaN                 NaT   \n",
       "35728                        www.bing.com 2013-11-12 08:17:09   \n",
       "243069                clients1.google.com 2013-11-12 08:16:27   \n",
       "\n",
       "                                    site5               time5    ...      \\\n",
       "session_id                                                       ...       \n",
       "168447                security.debian.org 2013-11-12 08:06:16    ...       \n",
       "141689      safebrowsing-cache.google.com 2013-11-12 08:05:24    ...       \n",
       "6214                                  NaN                 NaT    ...       \n",
       "35728                        cms.abmr.net 2013-11-12 08:17:10    ...       \n",
       "243069                     www.google.com 2013-11-12 08:16:30    ...       \n",
       "\n",
       "                         time7                 site8               time8  \\\n",
       "session_id                                                                 \n",
       "168447     2013-11-12 08:06:17  backports.debian.org 2013-11-12 08:06:17   \n",
       "141689     2013-11-12 08:05:42       ocsp.thawte.com 2013-11-12 08:06:53   \n",
       "6214                       NaT                   NaN                 NaT   \n",
       "35728      2013-11-12 08:17:11        login.live.com 2013-11-12 08:17:11   \n",
       "243069     2013-11-12 08:16:32    bits.wikimedia.org 2013-11-12 08:16:32   \n",
       "\n",
       "                           site9               time9  \\\n",
       "session_id                                             \n",
       "168447      backports.debian.org 2013-11-12 08:06:18   \n",
       "141689         sb-ssl.google.com 2013-11-12 08:08:17   \n",
       "6214                         NaN                 NaT   \n",
       "35728               www.bing.com 2013-11-12 08:17:12   \n",
       "243069            www.google.com 2013-11-12 08:16:32   \n",
       "\n",
       "                                 site10              time10 start_time  \\\n",
       "session_id                                                               \n",
       "168447      www-fourier.ujf-grenoble.fr 2013-11-12 08:15:30          8   \n",
       "141689                    www.google.fr 2013-11-12 08:26:46          8   \n",
       "6214                                NaN                 NaT          8   \n",
       "35728                      ssl.bing.com 2013-11-12 08:17:12          8   \n",
       "243069               meta.wikimedia.org 2013-11-12 08:16:33          8   \n",
       "\n",
       "           weekday year_month  \n",
       "session_id                     \n",
       "168447           1     201311  \n",
       "141689           1     201311  \n",
       "6214             1     201311  \n",
       "35728            1     201311  \n",
       "243069           1     201311  \n",
       "\n",
       "[5 rows x 23 columns]"
      ]
     },
     "execution_count": 50,
     "metadata": {},
     "output_type": "execute_result"
    }
   ],
   "source": [
    "X_train.head()"
   ]
  },
  {
   "cell_type": "code",
   "execution_count": 51,
   "metadata": {},
   "outputs": [],
   "source": [
    "X_train['sites'] = X_train['site1']\n",
    "X_test['sites'] = X_test['site1']\n",
    "for i in sites[1:]:\n",
    "    X_train['sites'] += ' ' + X_train[i].fillna('')\n",
    "    X_test['sites'] += ' ' + X_test[i].fillna('')"
   ]
  },
  {
   "cell_type": "code",
   "execution_count": 52,
   "metadata": {},
   "outputs": [],
   "source": [
    "vectorizer = TfidfVectorizer(ngram_range=(1, 3), max_features=100000)\n",
    "\n",
    "X_train_vect = vectorizer.fit_transform(X_train['sites'])\n",
    "X_test_vect = vectorizer.transform(X_test['sites'])"
   ]
  },
  {
   "cell_type": "code",
   "execution_count": 53,
   "metadata": {},
   "outputs": [],
   "source": [
    "logit = LogisticRegression(C=1, random_state=17)\n",
    "time_split = TimeSeriesSplit(n_splits=10)"
   ]
  },
  {
   "cell_type": "code",
   "execution_count": 54,
   "metadata": {},
   "outputs": [
    {
     "name": "stdout",
     "output_type": "stream",
     "text": [
      "Wall time: 1min 11s\n"
     ]
    }
   ],
   "source": [
    "%%time\n",
    "score = cross_val_score(estimator=logit, X=X_train_vect, y=y_train, cv=time_split, scoring='roc_auc')"
   ]
  },
  {
   "cell_type": "code",
   "execution_count": 55,
   "metadata": {},
   "outputs": [
    {
     "data": {
      "text/plain": [
       "(array([0.55716677, 0.84550099, 0.8859434 , 0.86637988, 0.78263317,\n",
       "        0.92942938, 0.83687057, 0.87925407, 0.91789336, 0.93594506]),\n",
       " 0.8437016637597745)"
      ]
     },
     "execution_count": 55,
     "metadata": {},
     "output_type": "execute_result"
    }
   ],
   "source": [
    "score, score.mean()"
   ]
  },
  {
   "cell_type": "code",
   "execution_count": 56,
   "metadata": {},
   "outputs": [],
   "source": [
    "def add_time_features(df):\n",
    "    X = df[['time1']]\n",
    "    X['start_time'] = [d.hour for d in X['time1']]\n",
    "    X['morning'] = [1 if 7 <= d <= 11 else 0 for d in X.start_time]\n",
    "    X['day'] = [1 if 12 <= d <= 18 else 0 for d in X.start_time]\n",
    "    X['evening'] = [1 if 19 <= d <= 23 else 0 for d in X.start_time]\n",
    "    X['danger_time'] = [1 if 9 <= d <= 18 else 0 for d in X.start_time]\n",
    "    X['weekday'] = [d.weekday() for d in X['time1']]\n",
    "    features = ['morning', 'day', 'evening']\n",
    "    X = pd.get_dummies(X, columns=['start_time', 'danger_time', 'weekday'])\n",
    "    X = X.drop('time1', axis=1)\n",
    "    \n",
    "    return X"
   ]
  },
  {
   "cell_type": "code",
   "execution_count": 57,
   "metadata": {},
   "outputs": [
    {
     "name": "stdout",
     "output_type": "stream",
     "text": [
      "Wall time: 3min 17s\n"
     ]
    }
   ],
   "source": [
    "%%time\n",
    "X_train_add = add_time_features(X_train.fillna(0))\n",
    "X_test_add = add_time_features(X_test.fillna(0))"
   ]
  },
  {
   "cell_type": "code",
   "execution_count": 58,
   "metadata": {},
   "outputs": [],
   "source": [
    "X_train_new = hstack([X_train_vect, X_train_add])\n",
    "X_test_new = hstack([X_test_vect, X_test_add])"
   ]
  },
  {
   "cell_type": "code",
   "execution_count": null,
   "metadata": {},
   "outputs": [],
   "source": [
    "%%time\n",
    "score = cross_val_score(estimator=logit, X=X_train_new, y=y_train, cv=time_split, scoring='roc_auc')"
   ]
  },
  {
   "cell_type": "code",
   "execution_count": null,
   "metadata": {},
   "outputs": [],
   "source": [
    "score, score.mean()"
   ]
  },
  {
   "cell_type": "code",
   "execution_count": 33,
   "metadata": {},
   "outputs": [
    {
     "data": {
      "text/plain": [
       "LogisticRegression(C=12.915, class_weight=None, dual=False,\n",
       "          fit_intercept=True, intercept_scaling=1, max_iter=100,\n",
       "          multi_class='ovr', n_jobs=1, penalty='l2', random_state=17,\n",
       "          solver='liblinear', tol=0.0001, verbose=0, warm_start=False)"
      ]
     },
     "execution_count": 33,
     "metadata": {},
     "output_type": "execute_result"
    }
   ],
   "source": [
    "logit.fit(X_train_new, y_train)"
   ]
  },
  {
   "cell_type": "code",
   "execution_count": 34,
   "metadata": {},
   "outputs": [],
   "source": [
    "test_pred = logit.predict_proba(X_test_new)[:, 1]"
   ]
  },
  {
   "cell_type": "code",
   "execution_count": 13,
   "metadata": {},
   "outputs": [],
   "source": [
    "c_values = np.logspace(-2, 2, 10)\n",
    "\n",
    "logit_grid_searcher = GridSearchCV(estimator=logit, param_grid={'C': c_values},\n",
    "                                  scoring='roc_auc', n_jobs=1, cv=time_split, verbose=1)"
   ]
  },
  {
   "cell_type": "code",
   "execution_count": 14,
   "metadata": {},
   "outputs": [
    {
     "name": "stdout",
     "output_type": "stream",
     "text": [
      "Fitting 10 folds for each of 10 candidates, totalling 100 fits\n"
     ]
    },
    {
     "name": "stderr",
     "output_type": "stream",
     "text": [
      "[Parallel(n_jobs=1)]: Done 100 out of 100 | elapsed: 29.6min finished\n"
     ]
    },
    {
     "name": "stdout",
     "output_type": "stream",
     "text": [
      "Wall time: 30min 36s\n"
     ]
    },
    {
     "data": {
      "text/plain": [
       "GridSearchCV(cv=TimeSeriesSplit(max_train_size=None, n_splits=10),\n",
       "       error_score='raise',\n",
       "       estimator=LogisticRegression(C=1.0, class_weight=None, dual=False, fit_intercept=True,\n",
       "          intercept_scaling=1, max_iter=100, multi_class='ovr', n_jobs=1,\n",
       "          penalty='l2', random_state=17, solver='liblinear', tol=0.0001,\n",
       "          verbose=0, warm_start=False),\n",
       "       fit_params=None, iid=True, n_jobs=1,\n",
       "       param_grid={'C': array([1.00000e-02, 2.78256e-02, 7.74264e-02, 2.15443e-01, 5.99484e-01,\n",
       "       1.66810e+00, 4.64159e+00, 1.29155e+01, 3.59381e+01, 1.00000e+02])},\n",
       "       pre_dispatch='2*n_jobs', refit=True, return_train_score='warn',\n",
       "       scoring='roc_auc', verbose=1)"
      ]
     },
     "execution_count": 14,
     "metadata": {},
     "output_type": "execute_result"
    }
   ],
   "source": [
    "%%time\n",
    "logit_grid_searcher.fit(X_train_new, y_train)"
   ]
  },
  {
   "cell_type": "code",
   "execution_count": 15,
   "metadata": {},
   "outputs": [
    {
     "data": {
      "text/plain": [
       "(0.9063002102819764, {'C': 12.915496650148826})"
      ]
     },
     "execution_count": 15,
     "metadata": {},
     "output_type": "execute_result"
    }
   ],
   "source": [
    "logit_grid_searcher.best_score_, logit_grid_searcher.best_params_"
   ]
  },
  {
   "cell_type": "code",
   "execution_count": 16,
   "metadata": {},
   "outputs": [],
   "source": [
    "test_pred = logit_grid_searcher.predict_proba(X_test_new)[:, 1]"
   ]
  },
  {
   "cell_type": "code",
   "execution_count": 17,
   "metadata": {},
   "outputs": [],
   "source": [
    "def write_to_submission_file(predicted_labels, out_file,\n",
    "                             target='target', index_label=\"session_id\"):\n",
    "    predicted_df = pd.DataFrame(predicted_labels,\n",
    "                                index = np.arange(1, predicted_labels.shape[0] + 1),\n",
    "                                columns=[target])\n",
    "    predicted_df.to_csv(out_file, index_label=index_label)"
   ]
  },
  {
   "cell_type": "code",
   "execution_count": 35,
   "metadata": {},
   "outputs": [],
   "source": [
    "write_to_submission_file(test_pred, \"alice.csv\")"
   ]
  },
  {
   "cell_type": "code",
   "execution_count": null,
   "metadata": {},
   "outputs": [],
   "source": []
  }
 ],
 "metadata": {
  "kernelspec": {
   "display_name": "Python 3",
   "language": "python",
   "name": "python3"
  },
  "language_info": {
   "codemirror_mode": {
    "name": "ipython",
    "version": 3
   },
   "file_extension": ".py",
   "mimetype": "text/x-python",
   "name": "python",
   "nbconvert_exporter": "python",
   "pygments_lexer": "ipython3",
   "version": "3.6.4"
  }
 },
 "nbformat": 4,
 "nbformat_minor": 2
}
